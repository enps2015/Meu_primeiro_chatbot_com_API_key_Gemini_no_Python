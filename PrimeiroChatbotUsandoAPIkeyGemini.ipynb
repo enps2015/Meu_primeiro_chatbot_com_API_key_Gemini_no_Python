{
  "nbformat": 4,
  "nbformat_minor": 0,
  "metadata": {
    "colab": {
      "provenance": [],
      "authorship_tag": "ABX9TyN6WRJ84kfhG/do5PoOOy+s",
      "include_colab_link": true
    },
    "kernelspec": {
      "name": "python3",
      "display_name": "Python 3"
    },
    "language_info": {
      "name": "python"
    }
  },
  "cells": [
    {
      "cell_type": "markdown",
      "metadata": {
        "id": "view-in-github",
        "colab_type": "text"
      },
      "source": [
        "<a href=\"https://colab.research.google.com/github/enps2015/Meu_primeiro_chatbot_com_API_key_Gemini_no_Python/blob/main/PrimeiroChatbotUsandoAPIkeyGemini.ipynb\" target=\"_parent\"><img src=\"https://colab.research.google.com/assets/colab-badge.svg\" alt=\"Open In Colab\"/></a>"
      ]
    },
    {
      "cell_type": "markdown",
      "source": [
        "Instalando o SDK do Google\n"
      ],
      "metadata": {
        "id": "DLLhk-0y_3aa"
      }
    },
    {
      "cell_type": "code",
      "execution_count": 1,
      "metadata": {
        "id": "FI7997kny3h0"
      },
      "outputs": [],
      "source": [
        "!pip install -q -U google-generativeai"
      ]
    },
    {
      "cell_type": "markdown",
      "source": [
        "Configurando a minha API key"
      ],
      "metadata": {
        "id": "02RG-nkZBIqa"
      }
    },
    {
      "cell_type": "code",
      "source": [
        "import google.generativeai as genai\n",
        "from google.colab import userdata\n",
        "api_key = userdata.get('SECRET_KEY')\n",
        "\n",
        "genai.configure(api_key=api_key)"
      ],
      "metadata": {
        "id": "U50Xh9yVA0st"
      },
      "execution_count": 14,
      "outputs": []
    },
    {
      "cell_type": "markdown",
      "source": [
        "Listar os modelos disponíveis"
      ],
      "metadata": {
        "id": "kSaVUCGYBSrG"
      }
    },
    {
      "cell_type": "code",
      "source": [
        "for m in genai.list_models():\n",
        "  if 'generateContent' in m.supported_generation_methods:\n",
        "    print(m.name)"
      ],
      "metadata": {
        "colab": {
          "base_uri": "https://localhost:8080/",
          "height": 139
        },
        "id": "Ynd3ayv6BWJZ",
        "outputId": "d98eee06-51b3-441a-b71f-c1dd5d0dd735"
      },
      "execution_count": 3,
      "outputs": [
        {
          "output_type": "stream",
          "name": "stdout",
          "text": [
            "models/gemini-1.0-pro\n",
            "models/gemini-1.0-pro-001\n",
            "models/gemini-1.0-pro-latest\n",
            "models/gemini-1.0-pro-vision-latest\n",
            "models/gemini-1.5-pro-latest\n",
            "models/gemini-pro\n",
            "models/gemini-pro-vision\n"
          ]
        }
      ]
    },
    {
      "cell_type": "code",
      "source": [
        "generation_config = {\n",
        "    \"candidate_count\": 1,\n",
        "    \"temperature\": 0.5,\n",
        "}"
      ],
      "metadata": {
        "id": "iu1uWI-RC1NL"
      },
      "execution_count": 4,
      "outputs": []
    },
    {
      "cell_type": "code",
      "source": [
        "safety_settings = {\n",
        "    \"HARASSMENT\": \"BLOCK_NONE\",\n",
        "    \"HATE\": \"BLOCK_NONE\",\n",
        "    \"SEXUAL\": \"BLOCK_NONE\",\n",
        "    \"DANGEROUS\": \"BLOCK_NONE\",\n",
        "}"
      ],
      "metadata": {
        "id": "VZ8mTViJCvgG"
      },
      "execution_count": 5,
      "outputs": []
    },
    {
      "cell_type": "markdown",
      "source": [
        "Inicializando o modelo"
      ],
      "metadata": {
        "id": "qUeOhJmsEyzn"
      }
    },
    {
      "cell_type": "code",
      "source": [
        "model = genai.GenerativeModel(model_name=\"gemini-1.0-pro\", generation_config=generation_config, safety_settings=safety_settings)"
      ],
      "metadata": {
        "id": "ho-br0PyE2A5"
      },
      "execution_count": 6,
      "outputs": []
    },
    {
      "cell_type": "markdown",
      "source": [],
      "metadata": {
        "id": "5T0vOSUD_1Wm"
      }
    },
    {
      "cell_type": "code",
      "source": [
        "response = model.generate_content(\"estou participando da Imerção IA Alura e Google com Gemini. Me dê 4 sugestões de projetos iniciantes para uso da API key?\")\n",
        "print(response.text)"
      ],
      "metadata": {
        "colab": {
          "base_uri": "https://localhost:8080/",
          "height": 121
        },
        "id": "YcyUEp_zGWmZ",
        "outputId": "09477add-e404-47be-a422-bc769cc58c81"
      },
      "execution_count": 7,
      "outputs": [
        {
          "output_type": "stream",
          "name": "stdout",
          "text": [
            "**4 Sugestões de Projetos Iniciantes para Uso da API Key:**\n",
            "\n",
            "1. **Classificador de Imagens:** Use a API Vision para classificar imagens e identificar objetos, animais ou cenas.\n",
            "2. **Detector de Texto:** Use a API Vision para extrair texto de imagens, como documentos ou placas de rua.\n",
            "3. **Tradutor de Idiomas:** Use a API Translate para traduzir textos entre diferentes idiomas.\n",
            "4. **Assistente Virtual:** Crie um assistente virtual simples que responda a perguntas usando a API Dialogflow.\n"
          ]
        }
      ]
    },
    {
      "cell_type": "code",
      "source": [
        "chat = model.start_chat(history=[])"
      ],
      "metadata": {
        "id": "5MGX3C6lGw9C"
      },
      "execution_count": 8,
      "outputs": []
    },
    {
      "cell_type": "code",
      "source": [
        "prompt = input(\"Digite sua pergunta: \")\n",
        "\n",
        "while prompt != \"sair\":\n",
        "  response = chat.send_message(prompt)\n",
        "  print(\"Resposta: \", response.text, \"\\n\")\n",
        "  prompt = input(\"Digite sua pergunta: \")"
      ],
      "metadata": {
        "colab": {
          "base_uri": "https://localhost:8080/",
          "height": 1000
        },
        "id": "axo-hig7HGJT",
        "outputId": "ecd0b80e-01de-4e3d-a82f-b4ff6a574608"
      },
      "execution_count": 10,
      "outputs": [
        {
          "name": "stdout",
          "output_type": "stream",
          "text": [
            "Digite sua pergunta: Me explique de forma didática o que é um TOKEN? Use analogias sinples.\n",
            "Resposta:  **Analogia 1: Bilhete de Ônibus**\n",
            "\n",
            "Imagine que você precisa pegar um ônibus. Você compra um bilhete que lhe permite entrar no ônibus e viajar até o seu destino. O bilhete é um token que prova que você pagou pela passagem.\n",
            "\n",
            "**Analogia 2: Chave**\n",
            "\n",
            "Uma chave é um token que permite que você abra uma porta ou ligue um carro. A chave tem uma forma específica que corresponde à fechadura ou ignição, permitindo que você acesse o que está protegido.\n",
            "\n",
            "**Definição de TOKEN**\n",
            "\n",
            "Um token é um objeto digital ou físico que representa um valor ou direito. Ele pode ser usado para:\n",
            "\n",
            "* **Identificação:** Comprovar a identidade de um usuário, como um token de login.\n",
            "* **Acesso:** Conceder acesso a recursos, como um token de acesso a uma API.\n",
            "* **Transações:** Facilitar transações financeiras, como um token de criptomoeda.\n",
            "\n",
            "**Tipos de TOKENS**\n",
            "\n",
            "Existem diferentes tipos de tokens, incluindo:\n",
            "\n",
            "* **Tokens de segurança:** Representam ativos financeiros, como ações ou títulos.\n",
            "* **Tokens de utilidade:** Fornecem acesso a produtos ou serviços específicos.\n",
            "* **Tokens de governança:** Permitem que os detentores votem em decisões relacionadas a uma plataforma ou projeto.\n",
            "\n",
            "**Conclusão**\n",
            "\n",
            "Assim como um bilhete de ônibus ou uma chave, um token é um objeto que representa um valor ou direito. Ele permite que os usuários acessem recursos, façam transações ou comprovem sua identidade. \n",
            "\n",
            "Digite sua pergunta: O que é um tokem em se tratando de geAi ?\n",
            "Resposta:  Um token em relação à Inteligência Artificial Generativa (IA Generativa) é um pedaço de texto curto que fornece instruções específicas para um modelo de IA. Ele atua como um prompt que guia o modelo para gerar o tipo desejado de conteúdo.\n",
            "\n",
            "**Analogia:**\n",
            "\n",
            "Imagine que você está dando instruções a um assistente virtual. Você pode dizer algo como: \"Agende uma reunião para amanhã às 10h com o João\". O assistente virtual usaria essas instruções para agendar a reunião.\n",
            "\n",
            "Da mesma forma, um token em IA Generativa fornece instruções específicas para o modelo de IA. Por exemplo, você pode usar um token como:\n",
            "\n",
            "```\n",
            "[gerar_texto]: Escreva um poema sobre a natureza.\n",
            "```\n",
            "\n",
            "O modelo de IA usaria esse token para gerar um poema sobre a natureza.\n",
            "\n",
            "**Tipos de tokens em IA Generativa:**\n",
            "\n",
            "Existem diferentes tipos de tokens que podem ser usados em IA Generativa, incluindo:\n",
            "\n",
            "* **Tokens de instrução:** Fornecem instruções gerais sobre o tipo de conteúdo a ser gerado.\n",
            "* **Tokens de estilo:** Especificam o estilo do conteúdo, como formal, informal ou poético.\n",
            "* **Tokens de conteúdo:** Fornecem informações específicas sobre o conteúdo a ser gerado, como tópicos, personagens ou eventos.\n",
            "\n",
            "**Conclusão:**\n",
            "\n",
            "Um token em IA Generativa é um prompt que fornece instruções específicas para um modelo de IA. Ele permite que os usuários gerem o tipo desejado de conteúdo, como texto, imagens ou música. \n",
            "\n",
            "Digite sua pergunta: fim\n",
            "Resposta:  Obrigado por usar meus serviços. Estou sempre aprendendo e melhorando, então agradeço qualquer feedback que você possa ter.\n",
            "\n",
            "Se você tiver mais alguma dúvida ou precisar de ajuda com outra coisa, não hesite em perguntar. \n",
            "\n",
            "Digite sua pergunta: sair\n"
          ]
        }
      ]
    },
    {
      "cell_type": "markdown",
      "source": [
        "Melhorando a visualização do chat"
      ],
      "metadata": {
        "id": "5IlY0GSmMNGO"
      }
    },
    {
      "cell_type": "code",
      "source": [
        "#Código disponível em https://ai.google.dev/tutorials/python_quickstart#import_packages\n",
        "\n",
        "import textwrap\n",
        "from IPython.display import display\n",
        "from IPython.display import Markdown\n",
        "\n",
        "def to_markdown(text):\n",
        "  text = text.replace('•', '  *')\n",
        "  return Markdown(textwrap.indent(text, '> ', predicate=lambda _: True))\n",
        "\n",
        "#Imprimindo o histórico\n",
        "for message in chat.history:\n",
        "  display(to_markdown(f'**{message.role}**: {message.parts[0].text}'))\n",
        "  print('-------------------------------------------')"
      ],
      "metadata": {
        "colab": {
          "base_uri": "https://localhost:8080/",
          "height": 1000
        },
        "id": "btRvqfWLMQrn",
        "outputId": "f8e92b1e-4118-4fdd-eb9e-c69645541a12"
      },
      "execution_count": 11,
      "outputs": [
        {
          "output_type": "display_data",
          "data": {
            "text/plain": [
              "<IPython.core.display.Markdown object>"
            ],
            "text/markdown": "> **user**: Me explique de forma didática o que é um TOKEN? Use analogias sinples."
          },
          "metadata": {}
        },
        {
          "output_type": "stream",
          "name": "stdout",
          "text": [
            "-------------------------------------------\n"
          ]
        },
        {
          "output_type": "display_data",
          "data": {
            "text/plain": [
              "<IPython.core.display.Markdown object>"
            ],
            "text/markdown": "> **model**: **Analogia 1: Bilhete de Ônibus**\n> \n> Imagine que você precisa pegar um ônibus. Você compra um bilhete que lhe permite entrar no ônibus e viajar até o seu destino. O bilhete é um token que prova que você pagou pela passagem.\n> \n> **Analogia 2: Chave**\n> \n> Uma chave é um token que permite que você abra uma porta ou ligue um carro. A chave tem uma forma específica que corresponde à fechadura ou ignição, permitindo que você acesse o que está protegido.\n> \n> **Definição de TOKEN**\n> \n> Um token é um objeto digital ou físico que representa um valor ou direito. Ele pode ser usado para:\n> \n> * **Identificação:** Comprovar a identidade de um usuário, como um token de login.\n> * **Acesso:** Conceder acesso a recursos, como um token de acesso a uma API.\n> * **Transações:** Facilitar transações financeiras, como um token de criptomoeda.\n> \n> **Tipos de TOKENS**\n> \n> Existem diferentes tipos de tokens, incluindo:\n> \n> * **Tokens de segurança:** Representam ativos financeiros, como ações ou títulos.\n> * **Tokens de utilidade:** Fornecem acesso a produtos ou serviços específicos.\n> * **Tokens de governança:** Permitem que os detentores votem em decisões relacionadas a uma plataforma ou projeto.\n> \n> **Conclusão**\n> \n> Assim como um bilhete de ônibus ou uma chave, um token é um objeto que representa um valor ou direito. Ele permite que os usuários acessem recursos, façam transações ou comprovem sua identidade."
          },
          "metadata": {}
        },
        {
          "output_type": "stream",
          "name": "stdout",
          "text": [
            "-------------------------------------------\n"
          ]
        },
        {
          "output_type": "display_data",
          "data": {
            "text/plain": [
              "<IPython.core.display.Markdown object>"
            ],
            "text/markdown": "> **user**: O que é um tokem em se tratando de geAi ?"
          },
          "metadata": {}
        },
        {
          "output_type": "stream",
          "name": "stdout",
          "text": [
            "-------------------------------------------\n"
          ]
        },
        {
          "output_type": "display_data",
          "data": {
            "text/plain": [
              "<IPython.core.display.Markdown object>"
            ],
            "text/markdown": "> **model**: Um token em relação à Inteligência Artificial Generativa (IA Generativa) é um pedaço de texto curto que fornece instruções específicas para um modelo de IA. Ele atua como um prompt que guia o modelo para gerar o tipo desejado de conteúdo.\n> \n> **Analogia:**\n> \n> Imagine que você está dando instruções a um assistente virtual. Você pode dizer algo como: \"Agende uma reunião para amanhã às 10h com o João\". O assistente virtual usaria essas instruções para agendar a reunião.\n> \n> Da mesma forma, um token em IA Generativa fornece instruções específicas para o modelo de IA. Por exemplo, você pode usar um token como:\n> \n> ```\n> [gerar_texto]: Escreva um poema sobre a natureza.\n> ```\n> \n> O modelo de IA usaria esse token para gerar um poema sobre a natureza.\n> \n> **Tipos de tokens em IA Generativa:**\n> \n> Existem diferentes tipos de tokens que podem ser usados em IA Generativa, incluindo:\n> \n> * **Tokens de instrução:** Fornecem instruções gerais sobre o tipo de conteúdo a ser gerado.\n> * **Tokens de estilo:** Especificam o estilo do conteúdo, como formal, informal ou poético.\n> * **Tokens de conteúdo:** Fornecem informações específicas sobre o conteúdo a ser gerado, como tópicos, personagens ou eventos.\n> \n> **Conclusão:**\n> \n> Um token em IA Generativa é um prompt que fornece instruções específicas para um modelo de IA. Ele permite que os usuários gerem o tipo desejado de conteúdo, como texto, imagens ou música."
          },
          "metadata": {}
        },
        {
          "output_type": "stream",
          "name": "stdout",
          "text": [
            "-------------------------------------------\n"
          ]
        },
        {
          "output_type": "display_data",
          "data": {
            "text/plain": [
              "<IPython.core.display.Markdown object>"
            ],
            "text/markdown": "> **user**: fim"
          },
          "metadata": {}
        },
        {
          "output_type": "stream",
          "name": "stdout",
          "text": [
            "-------------------------------------------\n"
          ]
        },
        {
          "output_type": "display_data",
          "data": {
            "text/plain": [
              "<IPython.core.display.Markdown object>"
            ],
            "text/markdown": "> **model**: Obrigado por usar meus serviços. Estou sempre aprendendo e melhorando, então agradeço qualquer feedback que você possa ter.\n> \n> Se você tiver mais alguma dúvida ou precisar de ajuda com outra coisa, não hesite em perguntar."
          },
          "metadata": {}
        },
        {
          "output_type": "stream",
          "name": "stdout",
          "text": [
            "-------------------------------------------\n"
          ]
        }
      ]
    }
  ]
}